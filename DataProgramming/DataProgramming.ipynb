{
 "cells": [
  {
   "cell_type": "markdown",
   "metadata": {},
   "source": [
    "                                                 Problem Set 1"
   ]
  },
  {
   "cell_type": "markdown",
   "metadata": {},
   "source": [
    "### Question 1\n",
    "What data type is each of the following?\n",
    "\n",
    "5\n",
    "5.0\n",
    "5 > 1\n",
    "'5'\n",
    "5 * 2\n",
    "'5' * 2\n",
    "'5' + '2'\n",
    "5 / 2\n",
    "5 % 2\n",
    "{5, 2, 1}\n",
    "5 == 3\n",
    "Pi (the number)"
   ]
  },
  {
   "cell_type": "code",
   "execution_count": 3,
   "metadata": {
    "scrolled": true
   },
   "outputs": [
    {
     "name": "stdout",
     "output_type": "stream",
     "text": [
      "5 is of the type <class 'int'>\n",
      "5.0 is of the type <class 'float'>\n",
      "True is of the type <class 'bool'>\n",
      "5 is of the type <class 'str'>\n",
      "10 is of the type <class 'int'>\n",
      "55 is of the type <class 'str'>\n",
      "52 is of the type <class 'str'>\n",
      "2.5 is of the type <class 'float'>\n",
      "1 is of the type <class 'int'>\n",
      "{1, 2, 5} is of the type <class 'set'>\n",
      "False is of the type <class 'bool'>\n",
      "3.141592653589793 is of the type <class 'float'>\n"
     ]
    }
   ],
   "source": [
    "#usage of type() function to get the type of each variable\n",
    "import math\n",
    "var = 5\n",
    "print(var, \"is of the type\", type(var))\n",
    "var = 5.0\n",
    "print(var, \"is of the type\", type(var))\n",
    "var = 5 > 1\n",
    "print(var, \"is of the type\", type(var))\n",
    "var = '5'\n",
    "print(var, \"is of the type\", type(var))\n",
    "var = 5 * 2\n",
    "print(var, \"is of the type\", type(var))\n",
    "var = '5' * 2\n",
    "print(var, \"is of the type\", type(var))\n",
    "var = '5' + '2'\n",
    "print(var, \"is of the type\", type(var))\n",
    "var = 5 / 2\n",
    "print(var, \"is of the type\", type(var))\n",
    "var = 5 % 2\n",
    "print(var, \"is of the type\", type(var))\n",
    "var = {5, 2, 1}\n",
    "print(var, \"is of the type\", type(var))\n",
    "var = 5 == 3\n",
    "print(var, \"is of the type\", type(var))\n",
    "var = math.pi\n",
    "print(var, \"is of the type\", type(var))"
   ]
  },
  {
   "cell_type": "markdown",
   "metadata": {},
   "source": [
    "### Question 2\n",
    "Write (and evaluate) Python expressions that answer these questions:"
   ]
  },
  {
   "cell_type": "markdown",
   "metadata": {},
   "source": [
    "A)\n",
    "How many letters are there in 'Supercalifragilisticexpialidocious'?\n"
   ]
  },
  {
   "cell_type": "code",
   "execution_count": 2,
   "metadata": {},
   "outputs": [
    {
     "ename": "SyntaxError",
     "evalue": "invalid syntax (<ipython-input-2-1e22473c5651>, line 1)",
     "output_type": "error",
     "traceback": [
      "\u001b[1;36m  File \u001b[1;32m\"<ipython-input-2-1e22473c5651>\"\u001b[1;36m, line \u001b[1;32m1\u001b[0m\n\u001b[1;33m    class Program {\u001b[0m\n\u001b[1;37m                  ^\u001b[0m\n\u001b[1;31mSyntaxError\u001b[0m\u001b[1;31m:\u001b[0m invalid syntax\n"
     ]
    }
   ],
   "source": [
    "class Program {\n",
    "       \n",
    "      static void Main(string[] args) {\n",
    "          \n",
    "         string str = \"Supercalifragilisticexpialidocious\";\n",
    "         \n",
    "         Console.WriteLine(\"String: \"+str);\n",
    "         Console.WriteLine(\"String Length: \"+str.Length);\n",
    "      }\n",
    "   }"
   ]
  },
  {
   "cell_type": "markdown",
   "metadata": {},
   "source": [
    "B)\n",
    "Does 'Supercalifragilisticexpialidocious' contain 'ice' as a substring?"
   ]
  },
  {
   "cell_type": "code",
   "execution_count": null,
   "metadata": {},
   "outputs": [],
   "source": [
    "class Demo {\n",
    "   public static void Main() {\n",
    "      string str1 = \"Supercalifragilisticexpialidocious\", str2 = \"ice\";\n",
    "      bool res;\n",
    "\n",
    "      res = str1.Contains(str2);\n",
    "      if (res)\n",
    "         Console.Write(\"The substring \" + str2 + \" is in the string \" + str1);\n",
    "      else\n",
    "         Console.Write(\"The substring \" + str2 + \" is not in the string \" + str1);\n",
    "   }\n",
    "}"
   ]
  },
  {
   "cell_type": "markdown",
   "metadata": {},
   "source": [
    "C)\n",
    "Which of the following words is the longest: \n",
    "Supercalifragilisticexpialidocious, Honorificabilitudinitatibus, or \n",
    "Bababadalgharaghtakamminarronnkonn?"
   ]
  },
  {
   "cell_type": "code",
   "execution_count": null,
   "metadata": {},
   "outputs": [],
   "source": [
    "class Demo {\n",
    "   static void Main() {\n",
    "      string[] arr = { \"Supercalifragilisticexpialidocious\",\"Honorificabilitudinitatibus\",\"Bababadalgharaghtakamminarronnkonn\"};\n",
    "      string res = arr.AsQueryable().Aggregate(\"jQuery\", (longest, next) => next.Length > longest.Length ? next : longest,str => str.ToLower());    \n",
    "      Console.WriteLine(\"Longest String is: {0}\", res);\n",
    "   }\n",
    "}"
   ]
  },
  {
   "cell_type": "markdown",
   "metadata": {},
   "source": [
    "D)\n",
    "Which composer comes first in the dictionary: 'Berlioz', 'Borodin', 'Brian', \n",
    "'Bartok', 'Bellini', 'Buxtehude', 'Bernstein'. Which one comes last"
   ]
  },
  {
   "cell_type": "code",
   "execution_count": null,
   "metadata": {},
   "outputs": [],
   "source": [
    "public class Pogram\n",
    "{\n",
    "     public static void Main(string[] args)\n",
    "     {\n",
    "          var names = new SortedSet<string>();\n",
    "          names.Add(\"Berlioz\");\n",
    "          names.Add(\"Borodin\");\n",
    "          names.Add(\"Brian\");\n",
    "          names.Add(\"Bartok\");\n",
    "          names.Add(\"Bellini\");\n",
    "          names.Add(\"Buxtehude\");\n",
    "          names.Add(\"Bernstein\");\n",
    "         \n",
    "          foreach (var name in names)\n",
    "          {\n",
    "               Console.WriteLine(name);\n",
    "          }\n",
    "      }\n",
    "}"
   ]
  },
  {
   "cell_type": "markdown",
   "metadata": {},
   "source": [
    "### Question 3 C#\n",
    "Implement function triangleArea(a,b,c) that takes as input the lengths of the 3 \n",
    "sides of a triangle and returns the area of the triangle. By Heron's formula, the area \n",
    "of a triangle with side lengths a, b, and c is s(s − a)(s −b)(s −c), where\n",
    "s = (a + b + c)/2."
   ]
  },
  {
   "cell_type": "code",
   "execution_count": null,
   "metadata": {},
   "outputs": [],
   "source": [
    "class Test\n",
    "{\n",
    "\n",
    "    // Function to find area\n",
    "    static float findArea(int a, int b,int c)\n",
    "    {\n",
    "        float s = (a + b + c) / 2;\n",
    "        return (float)Math.Sqrt(s * (s - a) *(s - b) * (s - c));\n",
    "    }\n",
    "    public static void Main()\n",
    "    {\n",
    "        int a = 2;\n",
    "        int b = 2;\n",
    "        int c = 2;\n",
    "\n",
    "        Console.Write(\"Area is \" + findArea(a, b, c));\n",
    "    }\n",
    "}"
   ]
  },
  {
   "cell_type": "markdown",
   "metadata": {},
   "source": [
    "### Question 4 C#\n",
    "Write a program in C# Sharp to separate odd and even integers in separate arrays. \n",
    "Go to the editor\n",
    "Test Data :\n",
    "Input the number of elements to be stored in the array :5 \n",
    "Input 5 elements in the array :\n",
    "element - 0 : 25\n",
    "element - 1 : 47\n",
    "element - 2 : 42\n",
    "element - 3 : 56\n",
    "element - 4 : 32 "
   ]
  },
  {
   "cell_type": "code",
   "execution_count": null,
   "metadata": {},
   "outputs": [],
   "source": [
    "public class Program\n",
    "    {\n",
    "        public static void Main(string[] args)\n",
    "        {\n",
    "            int[] arr1 = new int[] {25,47,42,56,32};\n",
    "            int[] arr2 = new int[5];\n",
    "            int[] arr3 = new int[5];\n",
    "            int i, j = 0, k = 0;\n",
    "            for (i = 0; i < 5; i++)\n",
    "            {\n",
    "                if (arr1[i] % 2 == 0)\n",
    "                {\n",
    "                    arr2[j] = arr1[i];\n",
    "                    j++;\n",
    "                }\n",
    "                else\n",
    "                {\n",
    "                    arr3[k] = arr1[i];\n",
    "                    k++;\n",
    "                }\n",
    "            }\n",
    "            Console.WriteLine(\"Even Elements are: \");\n",
    "            for (i = 0; i < j; i++)\n",
    "            {\n",
    "                Console.WriteLine(arr2[i]);\n",
    "            }\n",
    "            Console.WriteLine(\"Odd Elements are: \");\n",
    "            for (i = 0; i < k; i++)\n",
    "            {\n",
    "                Console.WriteLine(arr3[i]);\n",
    "            }\n",
    "        }\n",
    "    }\n"
   ]
  },
  {
   "cell_type": "markdown",
   "metadata": {},
   "source": [
    "### Question 5 \n",
    "A)\n",
    "Write a function inside(x,y,x1,y1,x2,y2) that returns True or False \n",
    "dependingonwhetherthepoint(x,y)liesintherectanglewithlowerleft \n",
    "corner (x1,y1) and upper right corner (x2,y2)."
   ]
  },
  {
   "cell_type": "code",
   "execution_count": 6,
   "metadata": {},
   "outputs": [
    {
     "name": "stdout",
     "output_type": "stream",
     "text": [
      "The point (1,1) lies within the rectangle (0,0) and (2,3).\n",
      "True\n",
      "The point (-1,-1) lies outside the rectangle (0,0) and (2,3).\n",
      "False\n"
     ]
    }
   ],
   "source": [
    "def inside(x,y,x1,y1,x2,y2) : \n",
    "    'checks if the points (x,y) lies within the rectangle (x1,y1) and (x2,y2)'\n",
    "    if (x >= x1 and x <= x2) and (y >= y1 and y <= y2) : #checks if the point lies within the rectangle\n",
    "        print('The point ({},{}) lies within the rectangle ({},{}) and ({},{}).'.format(x,y,x1,y1,x2,y2))\n",
    "        return True\n",
    "    else:\n",
    "        print('The point ({},{}) lies outside the rectangle ({},{}) and ({},{}).'.format(x,y,x1,y1,x2,y2))\n",
    "        return False;\n",
    "print(inside(1,1,0,0,2,3))\n",
    "print(inside(-1,-1,0,0,2,3))"
   ]
  },
  {
   "cell_type": "markdown",
   "metadata": {},
   "source": [
    "B)\n",
    "Use function inside()from part a. to write an expression that tests whether \n",
    "the point (1,1) lies in both of the following rectangles: one with lower left \n",
    "corner (0.3, 0.5) and upper right corner (1.1, 0.7) and the other with lower \n",
    "left corner (0.5, 0.2) and upper right corner (1.1, 2)."
   ]
  },
  {
   "cell_type": "code",
   "execution_count": 7,
   "metadata": {},
   "outputs": [
    {
     "name": "stdout",
     "output_type": "stream",
     "text": [
      "The point (1,1) does not lie within both the rectangle (0.3,0.5)(1.1,0.7) and (0.5,0.2)(1.1,2).\n"
     ]
    }
   ],
   "source": [
    "def inside(x,y,x1,y1,x2,y2) : \n",
    "    'checks if the points (x,y) lies within the rectangle (x1,y1) and (x2,y2)'\n",
    "    if (x >= x1 and x <= x2) and (y >= y1 and y <= y2) :\n",
    "        return True\n",
    "    else:\n",
    "        return False;\n",
    "a = inside(1,1,0.3,0.5,1.1,0.7)\n",
    "b = inside(1,1,0.5,0.2,1.1,2)\n",
    "if (a == True and b == True):\n",
    "    print('The point (1,1) lies within both the rectangle (0.3,0.5)(1.1,0.7) and (0.5,0.2)(1.1,2).')\n",
    "else:\n",
    "    print('The point (1,1) does not lie within both the rectangle (0.3,0.5)(1.1,0.7) and (0.5,0.2)(1.1,2).')"
   ]
  },
  {
   "cell_type": "markdown",
   "metadata": {},
   "source": [
    "### Question 6 Python\n",
    "You can turn a word into pig-Latin using the following two rules (simplified):\n",
    "\n",
    "If the word starts with a consonant, move that letter to the end and append 'ay'. For example, 'happy' becomes 'appyhay' and 'pencil' becomes 'encilpay'.\n",
    "\n",
    "If the word starts with a vowel, simply append 'way' to the end of the word. For example, 'enter' becomes 'enterway' and 'other' becomes 'otherway' . For our purposes, there are 5 vowels: a, e, i, o, u (so we count y as a consonant).\n",
    "\n",
    "Write a function pig() that takes a word (i.e., a string) as input and returns its pigLatin form. Your function should still work if the input word contains upper case characters. Your output should always be lower case however.\n",
    "\n",
    "pig('happy')\n",
    "\n",
    "'appyhay'\n",
    "\n",
    "pig('Enter')\n",
    "\n",
    "'enterway'"
   ]
  },
  {
   "cell_type": "code",
   "execution_count": 9,
   "metadata": {},
   "outputs": [
    {
     "name": "stdout",
     "output_type": "stream",
     "text": [
      "appyhay\n",
      "enterway\n"
     ]
    }
   ],
   "source": [
    "def pig(s):\n",
    "    stringLower = s.lower()\n",
    "    a = stringLower[0]\n",
    "    if a == 'i' or a == 'e' or a == 'i' or a == 'o' or a == 'u' : #If the first character is a vowel\n",
    "        newString1 = stringLower + 'way'\n",
    "        print(newString1)\n",
    "    else: #If the first character is a consonant\n",
    "        newString2 = stringLower + stringLower[0] + 'ay'\n",
    "        print(newString2[1:])            \n",
    "pig('happy')\n",
    "pig('Enter')   "
   ]
  },
  {
   "cell_type": "markdown",
   "metadata": {},
   "source": [
    "### Question 7 Python\n",
    "File bloodtype1.txt records blood-types of patients (A, B, AB, O or OO) at a clinic. \n",
    "Write a function bldcount() that reads the file with name name and reports (i.e., \n",
    "prints) how many patients there are in each bloodtype"
   ]
  },
  {
   "cell_type": "code",
   "execution_count": 10,
   "metadata": {},
   "outputs": [
    {
     "name": "stdout",
     "output_type": "stream",
     "text": [
      "There are 15 patients of blood type A.\n",
      "There are 1 patients of blood type B.\n",
      "There are 13 patients of blood type AB.\n",
      "There are 15 patients of blood type O.\n",
      "There are 0 patients of blood type OO.\n"
     ]
    }
   ],
   "source": [
    "def bldcount():\n",
    "    'reads the file bloodtype1.txt and records the number of patients with the blood types'\n",
    "    fileptr = open('bloodtype1.txt', 'r')\n",
    "    typeList = fileptr.read()\n",
    "    fileptr.close()\n",
    "    bloodType = typeList.split()\n",
    "    var = len(bloodType)\n",
    "    bloodTypeList = ['A', 'B', 'AB', 'O', 'OO']\n",
    "    count = [0 ,0 ,0 ,0 ,0] #blood group list in format [A, B, AB, O, OO]\n",
    "    #For loop BEGIN; This compares the blood groups and keeps the count\n",
    "    for i in range(var):\n",
    "        if bloodType[i] == bloodTypeList[0]:\n",
    "            count[0] += 1\n",
    "        elif bloodType[i] == bloodTypeList[1]:\n",
    "            count[1] += 1\n",
    "        elif bloodType[i] == bloodTypeList[2]:\n",
    "            count[2] += 1\n",
    "        elif bloodType[i] == bloodTypeList[3]:\n",
    "            count[3] += 1\n",
    "        elif bloodType[i] == bloodTypeList[4]:\n",
    "            count[4] += 1\n",
    "\n",
    "    for i in range(len(bloodTypeList)):\n",
    "        print('There are {} patients of blood type {}.'.format(count[i],bloodTypeList[i]))\n",
    "          \n",
    "bldcount()"
   ]
  },
  {
   "cell_type": "markdown",
   "metadata": {},
   "source": [
    "### Question 8\n",
    "Write a function curconv() that takes as input:\n",
    "\n",
    "1)a currency represented using a string (e.g., 'JPY' for the Japanese Yen or 'EUR' for the Euro)\n",
    "2)an amount and then converts and returns the amount in US dollars.\n",
    "\n",
    "curconv('EUR', 100)\n",
    "122.96544\n",
    "\n",
    "curconv('JPY', 100)\n",
    "1.241401"
   ]
  },
  {
   "cell_type": "code",
   "execution_count": 13,
   "metadata": {},
   "outputs": [
    {
     "name": "stdout",
     "output_type": "stream",
     "text": [
      "Currencies:\n",
      "Acronym\tCurrent Value\tCurrency Name\n",
      "AUD\t1.0345157\tAustralian Dollar\n",
      "CHF\t1.0237414\tSwiss Franc\n",
      "CNY\t0.1550176\tChinese Yuan\n",
      "DKK\t0.1651442\tDanish Krone\n",
      "EUR\t1.2296544\tEuro\n",
      "GBP\t1.5550989\tBritish Pound\n",
      "HKD\t0.1270207\tHong Kong Dollar\n",
      "INR\t0.0177643\tIndian Rupee\n",
      "JPY\t0.01241401\tJapanese Yen\n",
      "MXN\t0.0751848\tMexican Peso\n",
      "MYR\t0.3145411\tMalaysian Ringgit\n",
      "NOK\t0.1677063\tNorwegian Krone\n",
      "NZD\t0.8003591\tNew Zealand Dollar\n",
      "PHP\t0.0233234\tPhilippine Peso\n",
      "SEK\t0.148269\tSwedish Krona\n",
      "SGD\t0.788871\tSingapore Dollar\n",
      "THB\t0.0313789\tThai Baht\n",
      "\n",
      "Enter the currency acronym (ex: AUD): INR\n",
      "The currency you chose: INR \n",
      "Enter the amount: 100\n",
      "Converted Amount is: 1.77643\n"
     ]
    }
   ],
   "source": [
    "def displayCurrencies():\n",
    "    'Displays the currencies available in the file'\n",
    "    fileptr = open('currencies.txt', 'r') #Open file in Read mode\n",
    "    print('Currencies:')\n",
    "    print('Acronym\\tCurrent Value\\tCurrency Name')\n",
    "    print(fileptr.read())\n",
    "    fileptr.close()\n",
    "\n",
    "def curconv(a,b):\n",
    "    'converts the currency'\n",
    "    fileptr = open('currencies.txt', 'r') #Open file in Read mode\n",
    "    listLines = fileptr.readlines() #Read lines\n",
    "    fileptr.close()\n",
    "    for i in listLines:\n",
    "        if a in i:\n",
    "            currencyLine = i\n",
    "    chosenCur = currencyLine.split()\n",
    "    value = chosenCur[1]\n",
    "    convertedAmount = float(value) * float(b)\n",
    "    return convertedAmount\n",
    "\n",
    "#Display the available currencies\n",
    "displayCurrencies()\n",
    "#Ask to chose the required currency\n",
    "currency = str(input('Enter the currency acronym (ex: AUD): '))\n",
    "print('The currency you chose: {} '.format(currency))\n",
    "#Ask for the amount to convert\n",
    "amount = input('Enter the amount: ')\n",
    "#Call function to convert currency\n",
    "convertedAmount = curconv(currency,amount)\n",
    "print('Converted Amount is: {}'.format(convertedAmount))"
   ]
  },
  {
   "cell_type": "markdown",
   "metadata": {},
   "source": [
    "### Question 9\n",
    "Each of the following will cause an exception (an error). Identify what type of exception each will cause"
   ]
  },
  {
   "cell_type": "code",
   "execution_count": null,
   "metadata": {},
   "outputs": [],
   "source": [
    "Q: Trying to add incompatible variables, as in adding 6 + ‘a’\n",
    "A: TypeError. It is because the addition is done on a string and an integer."
   ]
  },
  {
   "cell_type": "markdown",
   "metadata": {},
   "source": [
    "Q: Referring to the 12th item of a list that has only 10 items\n",
    "A: IndexError. This is because the list has only 10 items and the reference to the 12th item does not exist."
   ]
  },
  {
   "cell_type": "markdown",
   "metadata": {},
   "source": [
    "Q: Using a value that is out of range for a function’s input, such as calling math.sqrt(-1.0)\n",
    "A: ValueError. The square root of a negative number is not defined in a simple form."
   ]
  },
  {
   "cell_type": "markdown",
   "metadata": {},
   "source": [
    "Q: Using an undeclared variable, such as print(x) when x has not been defined\n",
    "A: NameError. It is because x is an unassigned identifier."
   ]
  },
  {
   "cell_type": "markdown",
   "metadata": {},
   "source": [
    "Q: Trying to open a file that does not exist, such as mistyping the file name or looking in the wrong directory.\n",
    "A: FileNotFoundError. The error occurs as the file referred does not exist"
   ]
  },
  {
   "cell_type": "markdown",
   "metadata": {},
   "source": [
    "### Question 10\n",
    "Encryption is the process of hiding the meaning of a text by substituting letters in the message with other letters, according to some system. If the process is successful, no one but the intended recipient can understand the encrypted message. Cryptanalysis refers to attempts to undo the encryption, even if some details of the encryption are unknown (for example, if an encrypted message has been intercepted). The first step of cryptanalysis is often to build up a table of letter frequencies in the encrypted text. Assume that the string letters is already defined as 'abcdefghijklmnopqrstuvwxyz'. Write a function called frequencies() that takes a string as its only parameter, and returns a list of integers, showing the number of times each character appears in the text. Your function may ignore any characters that are not in letters.\n",
    "\n",
    "frequencies('The quick red fox got bored and went home.')\n",
    "[1, 1, 1, 3, 5, 1, 1, 2, 1, 0, 1, 0, 1, 2, 4, 0, 1, 2, 0, 2, 1, 0, 1, 1, 0, 0]\n",
    "\n",
    "frequencies('apple')"
   ]
  },
  {
   "cell_type": "code",
   "execution_count": 14,
   "metadata": {},
   "outputs": [
    {
     "name": "stdout",
     "output_type": "stream",
     "text": [
      "[1, 1, 1, 3, 5, 1, 1, 2, 1, 0, 1, 0, 1, 2, 4, 0, 1, 2, 0, 3, 1, 0, 1, 1, 0, 0]\n",
      "[1, 0, 0, 0, 1, 0, 0, 0, 0, 0, 0, 1, 0, 0, 0, 2, 0, 0, 0, 0, 0, 0, 0, 0, 0, 0]\n"
     ]
    }
   ],
   "source": [
    "def frequencies(s):\n",
    "    'takes an input string and count the frequencties of each character in it'\n",
    "    stringLower = s.lower()\n",
    "    letters = 'abcdefghijklmnopqrstuvwxyz'\n",
    "    lettersList = list(letters)\n",
    "    count = [0] * 26\n",
    "    for i in stringLower:\n",
    "        for j in range(len(lettersList)):\n",
    "            if i == lettersList[j]:\n",
    "                count[j] += 1;\n",
    "    print(count)\n",
    "    \n",
    "frequencies('The quick red fox got bored and went home.')\n",
    "frequencies('apple')"
   ]
  },
  {
   "cell_type": "code",
   "execution_count": null,
   "metadata": {},
   "outputs": [],
   "source": []
  }
 ],
 "metadata": {
  "kernelspec": {
   "display_name": "Python 3",
   "language": "python",
   "name": "python3"
  },
  "language_info": {
   "codemirror_mode": {
    "name": "ipython",
    "version": 3
   },
   "file_extension": ".py",
   "mimetype": "text/x-python",
   "name": "python",
   "nbconvert_exporter": "python",
   "pygments_lexer": "ipython3",
   "version": "3.8.5"
  }
 },
 "nbformat": 4,
 "nbformat_minor": 4
}
